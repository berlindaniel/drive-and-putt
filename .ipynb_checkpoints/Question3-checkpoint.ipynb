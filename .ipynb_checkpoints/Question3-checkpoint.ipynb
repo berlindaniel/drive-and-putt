{
 "cells": [
  {
   "cell_type": "markdown",
   "metadata": {},
   "source": [
    "# Question: \"Is the statement “drive for show” quantifiably true in the era of social networks?\"\n",
    "\n"
   ]
  },
  {
   "cell_type": "markdown",
   "metadata": {},
   "source": [
    "## 2. Data and Exploratory Data Analysis\n",
    "\n",
    "### 2.1 Data\n",
    "\n",
    "We created a dataset containing the driving distance, the number of year-to-date victories, the age, the earning, and the year of turning professional of the top 150 PGA players on the 2021 official money ranking (as of April 12) from the official PGA TOUR website (https://www.pgatour.com/stats/stat.109.html). Then, we manually complie a column of each player's instagram username. Since we excluded all the players without instgram account, the final data set consisting the data of 141 PGA players. Then, we scrappred the number of instagram followers of each player uisng the packgage `instascrape`. We also created a binary variable `isLongHitter`,  which indicates whether the player drives longer than the average driving distance on PGA TOUR (295.6 yards). "
   ]
  },
  {
   "cell_type": "code",
   "execution_count": 1,
   "metadata": {},
   "outputs": [],
   "source": [
    "# Importign packages\n",
    "import pandas as pd\n",
    "import numpy as np\n",
    "import scipy as sp\n",
    "import sklearn\n",
    "import seaborn as sns\n",
    "import matplotlib.pyplot as plt\n",
    "sns.set(style=\"whitegrid\")"
   ]
  },
  {
   "cell_type": "code",
   "execution_count": 2,
   "metadata": {},
   "outputs": [],
   "source": [
    "# Importing 2021 Money List Data \n",
    "money_list21 = pd.read_csv('PGAMoneyList21.csv') "
   ]
  },
  {
   "cell_type": "code",
   "execution_count": 3,
   "metadata": {},
   "outputs": [],
   "source": [
    "#Drop NaNs\n",
    "money_list21 = money_list21.dropna(subset=['IG Username'])\n",
    "money_list21.dtypes\n",
    "\n",
    "# Dropping the \"$\" in column 'Money' and convert the column's type to float\n",
    "# ref: https://pbpython.com/currency-cleanup.html\n",
    "def money_to_float(x):\n",
    "    if isinstance(x, str):\n",
    "        return(x.replace('$', '').replace(',', ''))\n",
    "    return(x)\n",
    "\n",
    "money_list21['Money'] = money_list21['Money'].apply(money_to_float).astype('float')\n",
    "money_list21['isLongHitter'] = np.where(money_list21['Driving Distance'] > 295.6 , 'Yes', 'No')"
   ]
  },
  {
   "cell_type": "code",
   "execution_count": 4,
   "metadata": {},
   "outputs": [],
   "source": [
    "# Solve Instagram Login Indirect Error\n",
    "\n",
    "#ref: http://valvepress.com/how-to-get-instagram-session-cookie/\n",
    "#ref: https://github.com/chris-greening/instascrape/discussions/70\n",
    "headers = {\n",
    "    \"user-agent\": \"Mozilla/5.0 (Linux; Android 6.0; Nexus 5 Build/MRA58N) AppleWebKit/537.36 (KHTML, like Gecko) Chrome/87.0.4280.88 Mobile Safari/537.36 Edg/87.0.664.57\",\n",
    "    \"cookie\": \"sessionid= 511722277%3APEX9yKTWbTvp39%3A18;\"\n",
    "}"
   ]
  },
  {
   "cell_type": "code",
   "execution_count": 5,
   "metadata": {},
   "outputs": [
    {
     "ename": "ModuleNotFoundError",
     "evalue": "No module named 'instascrape'",
     "output_type": "error",
     "traceback": [
      "\u001b[0;31m---------------------------------------------------------------------------\u001b[0m",
      "\u001b[0;31mModuleNotFoundError\u001b[0m                       Traceback (most recent call last)",
      "\u001b[0;32m<ipython-input-5-234affe2c44c>\u001b[0m in \u001b[0;36m<module>\u001b[0;34m\u001b[0m\n\u001b[1;32m      1\u001b[0m \u001b[0;31m# Scrape number of IG followers of each PGA player\u001b[0m\u001b[0;34m\u001b[0m\u001b[0;34m\u001b[0m\u001b[0;34m\u001b[0m\u001b[0m\n\u001b[0;32m----> 2\u001b[0;31m \u001b[0;32mfrom\u001b[0m \u001b[0minstascrape\u001b[0m \u001b[0;32mimport\u001b[0m \u001b[0;34m*\u001b[0m\u001b[0;34m\u001b[0m\u001b[0;34m\u001b[0m\u001b[0m\n\u001b[0m\u001b[1;32m      3\u001b[0m \u001b[0;34m\u001b[0m\u001b[0m\n\u001b[1;32m      4\u001b[0m \u001b[0mfollowers\u001b[0m \u001b[0;34m=\u001b[0m \u001b[0;34m[\u001b[0m\u001b[0;34m]\u001b[0m\u001b[0;34m\u001b[0m\u001b[0;34m\u001b[0m\u001b[0m\n\u001b[1;32m      5\u001b[0m \u001b[0;32mfor\u001b[0m \u001b[0muser\u001b[0m \u001b[0;32min\u001b[0m \u001b[0mmoney_list21\u001b[0m\u001b[0;34m[\u001b[0m\u001b[0;34m'IG Username'\u001b[0m\u001b[0;34m]\u001b[0m\u001b[0;34m:\u001b[0m\u001b[0;34m\u001b[0m\u001b[0;34m\u001b[0m\u001b[0m\n",
      "\u001b[0;31mModuleNotFoundError\u001b[0m: No module named 'instascrape'"
     ]
    }
   ],
   "source": [
    "# Scrape number of IG followers of each PGA player \n",
    "from instascrape import *\n",
    "\n",
    "followers = []\n",
    "for user in money_list21['IG Username']:\n",
    "    prof = Profile(user)\n",
    "    prof.scrape(headers=headers)\n",
    "    x = prof.followers\n",
    "    followers.append(x)\n",
    "\n",
    "money_list21['Followers'] = followers"
   ]
  },
  {
   "cell_type": "code",
   "execution_count": null,
   "metadata": {},
   "outputs": [],
   "source": [
    "money_list21.head()"
   ]
  },
  {
   "cell_type": "markdown",
   "metadata": {},
   "source": [
    "### 2.2  Data Preparation and Exploratory Data Analysis"
   ]
  },
  {
   "cell_type": "code",
   "execution_count": null,
   "metadata": {},
   "outputs": [],
   "source": [
    "fig1 = sns.displot(money_list21, x= \"Followers\", kind=\"kde\", hue = \"isLongHitter\")\n",
    "fig1.fig.subplots_adjust(top=0.9) \n",
    "fig1.fig.suptitle('Distribution of Number of Instagram Followers')"
   ]
  },
  {
   "cell_type": "markdown",
   "metadata": {},
   "source": [
    "Since the plot above suggests that the distribution of number of instagram followers for both *long* and *short* hitters are right skewed, we decided to perform a log-transformation on `Followers`. "
   ]
  },
  {
   "cell_type": "code",
   "execution_count": null,
   "metadata": {},
   "outputs": [],
   "source": [
    "# Log Transformation\n",
    "money_list21['log(Followers)'] = np.log(money_list21['Followers'] )\n",
    "\n",
    "fig2 = sns.displot(money_list21, x= \"log(Followers)\", kind=\"kde\", hue = \"isLongHitter\")\n",
    "fig2.fig.subplots_adjust(top=0.9) \n",
    "fig2.fig.suptitle('Distributions of Number of Followers (on log-scale)')"
   ]
  },
  {
   "cell_type": "markdown",
   "metadata": {},
   "source": [
    "With a log-transformation on `Followers`, the distribution of number of followers of both groups seem to be more normally distributed. Based on the plot above, it appears that the mean number of instagram followers of players who drive longer than the PGA average driving distance (295.6 yards) is *higher* than the mean number of followers of  players who drive shorter than the average."
   ]
  },
  {
   "cell_type": "code",
   "execution_count": null,
   "metadata": {},
   "outputs": [],
   "source": [
    "fig3 = sns.relplot(data= money_list21, x=\"Driving Distance\", y=\"log(Followers)\", hue = \"isLongHitter\", height=5)\n",
    "fig3.fig.subplots_adjust(top=0.9) \n",
    "fig3.fig.suptitle('Average Driving Distance VS. Number of Followers on Instagram (Log-Transformation)')"
   ]
  },
  {
   "cell_type": "markdown",
   "metadata": {},
   "source": [
    "This scatter plot shows that a positive relationship between the driving distance and the number of instagram followers of each PGA player. It also suggests that the long hitters seems to have more instgram followers that the short hitters. "
   ]
  },
  {
   "cell_type": "markdown",
   "metadata": {},
   "source": [
    "## One-Sided Two Sample T-test\n",
    "\n",
    "In order to answer the question, \"*Is the statement “drive for show” quantifiably true in the era of social networks?*\". \n",
    "\n",
    "We conducted a (one-sided) hypothesis test using the t-distribution under the following hypotheses: \n",
    "\n",
    "Null hypothesis ($H_0$) : $\\mu_{short} = \\mu_{long}$\n",
    "\n",
    "\n",
    "Alternative hypothesis ($H_A$) : $\\mu_{short} < \\mu_{long}$"
   ]
  },
  {
   "cell_type": "code",
   "execution_count": null,
   "metadata": {},
   "outputs": [],
   "source": [
    "from scipy import stats\n",
    "from scipy.stats import t\n",
    "\n",
    "\n",
    "short_hitter = money_list21[money_list21[\"isLongHitter\"] == \"No\"][\"log(Followers)\"]\n",
    "long_hitter = money_list21[money_list21[\"isLongHitter\"] == \"Yes\"][\"log(Followers)\"]\n",
    "\n",
    "df = len(short_hitter) + len(long_hitter) - 2\n",
    "\n",
    "t_test = stats.ttest_ind(short_hitter,long_hitter, equal_var = False)\n",
    "\n",
    "real_t_score = t_test.statistic\n",
    "real_pvalue = t_test.pvalue/2\n",
    "\n",
    "print(\"t-score: \",real_t_score, \n",
    "     \"P-value: \", real_pvalue)"
   ]
  },
  {
   "cell_type": "markdown",
   "metadata": {},
   "source": [
    "After conducting the test, we get the p-value of 0.000003. Since our p-value is less than our significance value of 0.05, we reject the null hypothesis that the mean number of instagram followers of two groups are equal. The data provides sufficient evidence to support the claim that long hitters tend to have more instagram followers than the short hitters. "
   ]
  }
 ],
 "metadata": {
  "kernelspec": {
   "display_name": "Python 3",
   "language": "python",
   "name": "python3"
  },
  "language_info": {
   "codemirror_mode": {
    "name": "ipython",
    "version": 3
   },
   "file_extension": ".py",
   "mimetype": "text/x-python",
   "name": "python",
   "nbconvert_exporter": "python",
   "pygments_lexer": "ipython3",
   "version": "3.8.5"
  }
 },
 "nbformat": 4,
 "nbformat_minor": 4
}
